{
 "cells": [
  {
   "cell_type": "code",
   "execution_count": 1,
   "metadata": {},
   "outputs": [],
   "source": [
    "# import library\n",
    "\n",
    "import numpy as np\n",
    "import pandas as pd\n",
    "import seaborn as sns\n",
    "import matplotlib.pyplot as plt\n",
    "from sklearn.preprocessing import LabelEncoder\n",
    "from sklearn.model_selection import train_test_split\n",
    "from sklearn.preprocessing import StandardScaler, MinMaxScaler\n",
    "from imblearn.under_sampling import RandomUnderSampler\n",
    "from imblearn.over_sampling import SMOTE\n",
    "from sklearn.metrics import classification_report"
   ]
  },
  {
   "cell_type": "code",
   "execution_count": 2,
   "metadata": {},
   "outputs": [],
   "source": [
    "# importing data \n",
    "\n",
    "loan = pd.read_csv(r\"C:\\Users\\LENOVO\\Desktop\\All-folder\\AlgoraProject\\Final\\Loan_default.csv\")"
   ]
  },
  {
   "cell_type": "markdown",
   "metadata": {},
   "source": [
    "## Features Engineering "
   ]
  },
  {
   "cell_type": "code",
   "execution_count": 3,
   "metadata": {},
   "outputs": [],
   "source": [
    "# defining Feature and Target \n",
    "\n",
    "X = loan.drop(['LoanID', 'Default'], axis = 1)\n",
    "y = loan['Default'].values"
   ]
  },
  {
   "cell_type": "markdown",
   "metadata": {},
   "source": [
    "## Encoding Categorical value"
   ]
  },
  {
   "cell_type": "code",
   "execution_count": 4,
   "metadata": {},
   "outputs": [],
   "source": [
    "# Encode binary columns in X\n",
    "\n",
    "binary_col = ['HasMortgage', 'HasDependents', 'HasCoSigner']\n",
    "\n",
    "for col in binary_col:\n",
    "    X[col] = X[col].map({'Yes': 1, 'No': 0})"
   ]
  },
  {
   "cell_type": "code",
   "execution_count": 5,
   "metadata": {},
   "outputs": [
    {
     "data": {
      "text/html": [
       "<div>\n",
       "<style scoped>\n",
       "    .dataframe tbody tr th:only-of-type {\n",
       "        vertical-align: middle;\n",
       "    }\n",
       "\n",
       "    .dataframe tbody tr th {\n",
       "        vertical-align: top;\n",
       "    }\n",
       "\n",
       "    .dataframe thead th {\n",
       "        text-align: right;\n",
       "    }\n",
       "</style>\n",
       "<table border=\"1\" class=\"dataframe\">\n",
       "  <thead>\n",
       "    <tr style=\"text-align: right;\">\n",
       "      <th></th>\n",
       "      <th>Age</th>\n",
       "      <th>Income</th>\n",
       "      <th>LoanAmount</th>\n",
       "      <th>CreditScore</th>\n",
       "      <th>MonthsEmployed</th>\n",
       "      <th>NumCreditLines</th>\n",
       "      <th>InterestRate</th>\n",
       "      <th>LoanTerm</th>\n",
       "      <th>DTIRatio</th>\n",
       "      <th>Education</th>\n",
       "      <th>EmploymentType</th>\n",
       "      <th>MaritalStatus</th>\n",
       "      <th>HasMortgage</th>\n",
       "      <th>HasDependents</th>\n",
       "      <th>LoanPurpose</th>\n",
       "      <th>HasCoSigner</th>\n",
       "    </tr>\n",
       "  </thead>\n",
       "  <tbody>\n",
       "    <tr>\n",
       "      <th>0</th>\n",
       "      <td>56</td>\n",
       "      <td>85994</td>\n",
       "      <td>50587</td>\n",
       "      <td>520</td>\n",
       "      <td>80</td>\n",
       "      <td>4</td>\n",
       "      <td>15.23</td>\n",
       "      <td>36</td>\n",
       "      <td>0.44</td>\n",
       "      <td>Bachelor's</td>\n",
       "      <td>Full-time</td>\n",
       "      <td>Divorced</td>\n",
       "      <td>1</td>\n",
       "      <td>1</td>\n",
       "      <td>Other</td>\n",
       "      <td>1</td>\n",
       "    </tr>\n",
       "    <tr>\n",
       "      <th>1</th>\n",
       "      <td>69</td>\n",
       "      <td>50432</td>\n",
       "      <td>124440</td>\n",
       "      <td>458</td>\n",
       "      <td>15</td>\n",
       "      <td>1</td>\n",
       "      <td>4.81</td>\n",
       "      <td>60</td>\n",
       "      <td>0.68</td>\n",
       "      <td>Master's</td>\n",
       "      <td>Full-time</td>\n",
       "      <td>Married</td>\n",
       "      <td>0</td>\n",
       "      <td>0</td>\n",
       "      <td>Other</td>\n",
       "      <td>1</td>\n",
       "    </tr>\n",
       "    <tr>\n",
       "      <th>2</th>\n",
       "      <td>46</td>\n",
       "      <td>84208</td>\n",
       "      <td>129188</td>\n",
       "      <td>451</td>\n",
       "      <td>26</td>\n",
       "      <td>3</td>\n",
       "      <td>21.17</td>\n",
       "      <td>24</td>\n",
       "      <td>0.31</td>\n",
       "      <td>Master's</td>\n",
       "      <td>Unemployed</td>\n",
       "      <td>Divorced</td>\n",
       "      <td>1</td>\n",
       "      <td>1</td>\n",
       "      <td>Auto</td>\n",
       "      <td>0</td>\n",
       "    </tr>\n",
       "    <tr>\n",
       "      <th>3</th>\n",
       "      <td>32</td>\n",
       "      <td>31713</td>\n",
       "      <td>44799</td>\n",
       "      <td>743</td>\n",
       "      <td>0</td>\n",
       "      <td>3</td>\n",
       "      <td>7.07</td>\n",
       "      <td>24</td>\n",
       "      <td>0.23</td>\n",
       "      <td>High School</td>\n",
       "      <td>Full-time</td>\n",
       "      <td>Married</td>\n",
       "      <td>0</td>\n",
       "      <td>0</td>\n",
       "      <td>Business</td>\n",
       "      <td>0</td>\n",
       "    </tr>\n",
       "    <tr>\n",
       "      <th>4</th>\n",
       "      <td>60</td>\n",
       "      <td>20437</td>\n",
       "      <td>9139</td>\n",
       "      <td>633</td>\n",
       "      <td>8</td>\n",
       "      <td>4</td>\n",
       "      <td>6.51</td>\n",
       "      <td>48</td>\n",
       "      <td>0.73</td>\n",
       "      <td>Bachelor's</td>\n",
       "      <td>Unemployed</td>\n",
       "      <td>Divorced</td>\n",
       "      <td>0</td>\n",
       "      <td>1</td>\n",
       "      <td>Auto</td>\n",
       "      <td>0</td>\n",
       "    </tr>\n",
       "  </tbody>\n",
       "</table>\n",
       "</div>"
      ],
      "text/plain": [
       "   Age  Income  LoanAmount  CreditScore  MonthsEmployed  NumCreditLines  \\\n",
       "0   56   85994       50587          520              80               4   \n",
       "1   69   50432      124440          458              15               1   \n",
       "2   46   84208      129188          451              26               3   \n",
       "3   32   31713       44799          743               0               3   \n",
       "4   60   20437        9139          633               8               4   \n",
       "\n",
       "   InterestRate  LoanTerm  DTIRatio    Education EmploymentType MaritalStatus  \\\n",
       "0         15.23        36      0.44   Bachelor's      Full-time      Divorced   \n",
       "1          4.81        60      0.68     Master's      Full-time       Married   \n",
       "2         21.17        24      0.31     Master's     Unemployed      Divorced   \n",
       "3          7.07        24      0.23  High School      Full-time       Married   \n",
       "4          6.51        48      0.73   Bachelor's     Unemployed      Divorced   \n",
       "\n",
       "   HasMortgage  HasDependents LoanPurpose  HasCoSigner  \n",
       "0            1              1       Other            1  \n",
       "1            0              0       Other            1  \n",
       "2            1              1        Auto            0  \n",
       "3            0              0    Business            0  \n",
       "4            0              1        Auto            0  "
      ]
     },
     "execution_count": 5,
     "metadata": {},
     "output_type": "execute_result"
    }
   ],
   "source": [
    "X.head()"
   ]
  },
  {
   "cell_type": "code",
   "execution_count": 6,
   "metadata": {},
   "outputs": [],
   "source": [
    "# Encoding Categorical columns \n",
    "\n",
    "X_object = X.select_dtypes(include = 'object')\n",
    "X_numeric = X.select_dtypes(exclude = 'object')\n",
    "\n",
    "# Encoding the cat col.\n",
    "\n",
    "Cat_col = pd.get_dummies(X_object,  drop_first = True)\n",
    "\n",
    "# concatinating both the numeric and Cat_col data set\n",
    "\n",
    "X = pd.concat([X_numeric, Cat_col], axis = 1)\n"
   ]
  },
  {
   "cell_type": "code",
   "execution_count": 7,
   "metadata": {},
   "outputs": [
    {
     "data": {
      "text/plain": [
       "(255347, 24)"
      ]
     },
     "execution_count": 7,
     "metadata": {},
     "output_type": "execute_result"
    }
   ],
   "source": [
    "X.shape"
   ]
  },
  {
   "cell_type": "code",
   "execution_count": 10,
   "metadata": {},
   "outputs": [],
   "source": [
    "Cat_col1 = pd.get_dummies(X_object,)"
   ]
  },
  {
   "cell_type": "code",
   "execution_count": 11,
   "metadata": {},
   "outputs": [],
   "source": [
    "Cat_col2 = pd.get_dummies(X_object,  drop_first = True)"
   ]
  },
  {
   "cell_type": "code",
   "execution_count": 13,
   "metadata": {},
   "outputs": [
    {
     "data": {
      "text/plain": [
       "Index(['Education_Bachelor's', 'Education_High School', 'Education_Master's',\n",
       "       'Education_PhD', 'EmploymentType_Full-time', 'EmploymentType_Part-time',\n",
       "       'EmploymentType_Self-employed', 'EmploymentType_Unemployed',\n",
       "       'MaritalStatus_Divorced', 'MaritalStatus_Married',\n",
       "       'MaritalStatus_Single', 'LoanPurpose_Auto', 'LoanPurpose_Business',\n",
       "       'LoanPurpose_Education', 'LoanPurpose_Home', 'LoanPurpose_Other'],\n",
       "      dtype='object')"
      ]
     },
     "execution_count": 13,
     "metadata": {},
     "output_type": "execute_result"
    }
   ],
   "source": [
    "Cat_col1.columns"
   ]
  },
  {
   "cell_type": "code",
   "execution_count": 14,
   "metadata": {},
   "outputs": [
    {
     "data": {
      "text/plain": [
       "Index(['Education_High School', 'Education_Master's', 'Education_PhD',\n",
       "       'EmploymentType_Part-time', 'EmploymentType_Self-employed',\n",
       "       'EmploymentType_Unemployed', 'MaritalStatus_Married',\n",
       "       'MaritalStatus_Single', 'LoanPurpose_Business', 'LoanPurpose_Education',\n",
       "       'LoanPurpose_Home', 'LoanPurpose_Other'],\n",
       "      dtype='object')"
      ]
     },
     "execution_count": 14,
     "metadata": {},
     "output_type": "execute_result"
    }
   ],
   "source": [
    "Cat_col2.columns"
   ]
  },
  {
   "cell_type": "markdown",
   "metadata": {},
   "source": [
    "## Data Splitiing (Train and Test)"
   ]
  },
  {
   "cell_type": "code",
   "execution_count": 31,
   "metadata": {},
   "outputs": [],
   "source": [
    "X_train, X_test, y_train, y_test = train_test_split(X, y, test_size = 0.3, random_state = 42)"
   ]
  },
  {
   "cell_type": "markdown",
   "metadata": {},
   "source": [
    "#  Handling imblance "
   ]
  },
  {
   "cell_type": "code",
   "execution_count": 40,
   "metadata": {},
   "outputs": [
    {
     "data": {
      "text/plain": [
       "0    41458\n",
       "1    41458\n",
       "dtype: int64"
      ]
     },
     "execution_count": 40,
     "metadata": {},
     "output_type": "execute_result"
    }
   ],
   "source": [
    "pd.DataFrame(ytrain).value_counts()"
   ]
  },
  {
   "cell_type": "code",
   "execution_count": 38,
   "metadata": {},
   "outputs": [],
   "source": [
    "# Under Sampling \n",
    "\n",
    "rus = RandomUnderSampler(sampling_strategy = 0.50, random_state = 42)\n",
    "\n",
    "# Fitting  and creating resmapled X  and y\n",
    "\n",
    "X_train_resampled, y_train_resampled = rus.fit_resample(X_train, y_train)"
   ]
  },
  {
   "cell_type": "code",
   "execution_count": 39,
   "metadata": {},
   "outputs": [],
   "source": [
    "# over Sample\n",
    "\n",
    "smote = SMOTE(sampling_strategy = 'auto', random_state= 42 )\n",
    "\n",
    "# Fitting  and creating resmapled X  and y\n",
    "\n",
    "Xtrain, ytrain = smote.fit_resample(X_train_resampled, y_train_resampled)"
   ]
  },
  {
   "cell_type": "markdown",
   "metadata": {},
   "source": [
    "# Scaling"
   ]
  },
  {
   "cell_type": "code",
   "execution_count": 41,
   "metadata": {},
   "outputs": [],
   "source": [
    "#creating scaler instance\n",
    "\n",
    "ms = MinMaxScaler()\n",
    "\n",
    "## fiting and transsforming the dataset\n",
    "\n",
    "X_train = ms.fit_transform(Xtrain)\n",
    "X_test = ms.transform(X_test)\n",
    "y_train = ytrain.copy()"
   ]
  },
  {
   "cell_type": "markdown",
   "metadata": {},
   "source": [
    "## Building Model "
   ]
  },
  {
   "cell_type": "code",
   "execution_count": 43,
   "metadata": {},
   "outputs": [
    {
     "name": "stdout",
     "output_type": "stream",
     "text": [
      "WARNING:tensorflow:From C:\\Users\\LENOVO\\AppData\\Roaming\\Python\\Python310\\site-packages\\keras\\src\\losses.py:2976: The name tf.losses.sparse_softmax_cross_entropy is deprecated. Please use tf.compat.v1.losses.sparse_softmax_cross_entropy instead.\n",
      "\n"
     ]
    }
   ],
   "source": [
    "from tensorflow.keras.models import Sequential\n",
    "from tensorflow.keras.layers import Dense, Dropout\n",
    "from tensorflow.keras.callbacks import EarlyStopping"
   ]
  },
  {
   "cell_type": "code",
   "execution_count": 44,
   "metadata": {},
   "outputs": [],
   "source": [
    "# creating call back parameters \n",
    "\n",
    "ES = EarlyStopping(monitor = 'val_loss', mode = 'min', patience = 25, verbose = 1)"
   ]
  },
  {
   "cell_type": "code",
   "execution_count": 46,
   "metadata": {},
   "outputs": [],
   "source": [
    "# Creating the model instance and the model\n",
    "\n",
    "model = Sequential()\n",
    "\n",
    "# building the model layers\n",
    "\n",
    "model.add(Dense(24, activation = 'relu'))\n",
    "model.add(Dropout(0.2))\n",
    "\n",
    "\n",
    "#Binary Classficiation\n",
    "\n",
    "model.add(Dense(1, activation = 'sigmoid'))\n",
    "\n",
    "# model compliation\n",
    "\n",
    "model.compile(loss = 'binary_crossentropy', optimizer = 'adam')"
   ]
  },
  {
   "cell_type": "code",
   "execution_count": 47,
   "metadata": {},
   "outputs": [
    {
     "name": "stdout",
     "output_type": "stream",
     "text": [
      "Epoch 1/100\n",
      "WARNING:tensorflow:From C:\\Users\\LENOVO\\AppData\\Roaming\\Python\\Python310\\site-packages\\keras\\src\\utils\\tf_utils.py:492: The name tf.ragged.RaggedTensorValue is deprecated. Please use tf.compat.v1.ragged.RaggedTensorValue instead.\n",
      "\n",
      "1659/1659 [==============================] - 23s 11ms/step - loss: 0.5352 - val_loss: 0.5069\n",
      "Epoch 2/100\n",
      "1659/1659 [==============================] - 22s 13ms/step - loss: 0.4907 - val_loss: 0.4959\n",
      "Epoch 3/100\n",
      "1659/1659 [==============================] - 19s 11ms/step - loss: 0.4809 - val_loss: 0.4862\n",
      "Epoch 4/100\n",
      "1659/1659 [==============================] - 16s 10ms/step - loss: 0.4767 - val_loss: 0.4775\n",
      "Epoch 5/100\n",
      "1659/1659 [==============================] - 17s 10ms/step - loss: 0.4738 - val_loss: 0.5051\n",
      "Epoch 6/100\n",
      "1659/1659 [==============================] - 24s 14ms/step - loss: 0.4719 - val_loss: 0.4925\n",
      "Epoch 7/100\n",
      "1659/1659 [==============================] - 27s 16ms/step - loss: 0.4709 - val_loss: 0.4959\n",
      "Epoch 8/100\n",
      "1659/1659 [==============================] - 26s 16ms/step - loss: 0.4695 - val_loss: 0.4749\n",
      "Epoch 9/100\n",
      "1659/1659 [==============================] - 22s 13ms/step - loss: 0.4704 - val_loss: 0.4771\n",
      "Epoch 10/100\n",
      "1659/1659 [==============================] - 27s 17ms/step - loss: 0.4686 - val_loss: 0.4654\n",
      "Epoch 11/100\n",
      "1659/1659 [==============================] - 20s 12ms/step - loss: 0.4685 - val_loss: 0.4789\n",
      "Epoch 12/100\n",
      "1659/1659 [==============================] - 22s 13ms/step - loss: 0.4689 - val_loss: 0.4850\n",
      "Epoch 13/100\n",
      "1659/1659 [==============================] - 17s 11ms/step - loss: 0.4685 - val_loss: 0.4951\n",
      "Epoch 14/100\n",
      "1659/1659 [==============================] - 23s 14ms/step - loss: 0.4679 - val_loss: 0.4896\n",
      "Epoch 15/100\n",
      "1659/1659 [==============================] - 25s 15ms/step - loss: 0.4677 - val_loss: 0.4731\n",
      "Epoch 16/100\n",
      "1659/1659 [==============================] - 17s 10ms/step - loss: 0.4679 - val_loss: 0.5074\n",
      "Epoch 17/100\n",
      "1659/1659 [==============================] - 24s 14ms/step - loss: 0.4678 - val_loss: 0.4849\n",
      "Epoch 18/100\n",
      "1659/1659 [==============================] - 22s 13ms/step - loss: 0.4667 - val_loss: 0.4821\n",
      "Epoch 19/100\n",
      "1659/1659 [==============================] - 30s 18ms/step - loss: 0.4668 - val_loss: 0.4570\n",
      "Epoch 20/100\n",
      "1659/1659 [==============================] - 26s 16ms/step - loss: 0.4669 - val_loss: 0.4532\n",
      "Epoch 21/100\n",
      "1659/1659 [==============================] - 27s 16ms/step - loss: 0.4669 - val_loss: 0.4879\n",
      "Epoch 22/100\n",
      "1659/1659 [==============================] - 29s 18ms/step - loss: 0.4661 - val_loss: 0.4914\n",
      "Epoch 23/100\n",
      "1659/1659 [==============================] - 32s 19ms/step - loss: 0.4661 - val_loss: 0.4709\n",
      "Epoch 24/100\n",
      "1659/1659 [==============================] - 22s 13ms/step - loss: 0.4659 - val_loss: 0.4785\n",
      "Epoch 25/100\n",
      "1659/1659 [==============================] - 23s 14ms/step - loss: 0.4665 - val_loss: 0.4851\n",
      "Epoch 26/100\n",
      "1659/1659 [==============================] - 21s 13ms/step - loss: 0.4669 - val_loss: 0.4692\n",
      "Epoch 27/100\n",
      "1659/1659 [==============================] - 27s 17ms/step - loss: 0.4659 - val_loss: 0.4918\n",
      "Epoch 28/100\n",
      "1659/1659 [==============================] - 20s 12ms/step - loss: 0.4663 - val_loss: 0.4765\n",
      "Epoch 29/100\n",
      "1659/1659 [==============================] - 17s 10ms/step - loss: 0.4659 - val_loss: 0.4837\n",
      "Epoch 30/100\n",
      "1659/1659 [==============================] - 18s 11ms/step - loss: 0.4659 - val_loss: 0.4830\n",
      "Epoch 31/100\n",
      "1659/1659 [==============================] - 18s 11ms/step - loss: 0.4661 - val_loss: 0.4802\n",
      "Epoch 32/100\n",
      "1659/1659 [==============================] - 23s 14ms/step - loss: 0.4659 - val_loss: 0.4918\n",
      "Epoch 33/100\n",
      "1659/1659 [==============================] - 17s 10ms/step - loss: 0.4669 - val_loss: 0.4612\n",
      "Epoch 34/100\n",
      "1659/1659 [==============================] - 19s 11ms/step - loss: 0.4656 - val_loss: 0.4692\n",
      "Epoch 35/100\n",
      "1659/1659 [==============================] - 18s 11ms/step - loss: 0.4658 - val_loss: 0.5031\n",
      "Epoch 36/100\n",
      "1659/1659 [==============================] - 18s 11ms/step - loss: 0.4663 - val_loss: 0.4718\n",
      "Epoch 37/100\n",
      "1659/1659 [==============================] - 17s 10ms/step - loss: 0.4656 - val_loss: 0.4844\n",
      "Epoch 38/100\n",
      "1659/1659 [==============================] - 19s 11ms/step - loss: 0.4655 - val_loss: 0.4714\n",
      "Epoch 39/100\n",
      "1659/1659 [==============================] - 17s 11ms/step - loss: 0.4662 - val_loss: 0.4807\n",
      "Epoch 40/100\n",
      "1659/1659 [==============================] - 17s 10ms/step - loss: 0.4659 - val_loss: 0.4812\n",
      "Epoch 41/100\n",
      "1659/1659 [==============================] - 18s 11ms/step - loss: 0.4664 - val_loss: 0.4905\n",
      "Epoch 42/100\n",
      "1659/1659 [==============================] - 18s 11ms/step - loss: 0.4651 - val_loss: 0.4504\n",
      "Epoch 43/100\n",
      "1659/1659 [==============================] - 17s 11ms/step - loss: 0.4658 - val_loss: 0.4903\n",
      "Epoch 44/100\n",
      "1659/1659 [==============================] - 17s 10ms/step - loss: 0.4659 - val_loss: 0.4813\n",
      "Epoch 45/100\n",
      "1659/1659 [==============================] - 18s 11ms/step - loss: 0.4651 - val_loss: 0.4708\n",
      "Epoch 46/100\n",
      "1659/1659 [==============================] - 18s 11ms/step - loss: 0.4656 - val_loss: 0.4765\n",
      "Epoch 47/100\n",
      "1659/1659 [==============================] - 16s 10ms/step - loss: 0.4654 - val_loss: 0.4794\n",
      "Epoch 48/100\n",
      "1659/1659 [==============================] - 17s 10ms/step - loss: 0.4660 - val_loss: 0.4950\n",
      "Epoch 49/100\n",
      "1659/1659 [==============================] - 18s 11ms/step - loss: 0.4652 - val_loss: 0.4692\n",
      "Epoch 50/100\n",
      "1659/1659 [==============================] - 18s 11ms/step - loss: 0.4654 - val_loss: 0.5012\n",
      "Epoch 51/100\n",
      "1659/1659 [==============================] - 17s 10ms/step - loss: 0.4656 - val_loss: 0.4898\n",
      "Epoch 52/100\n",
      "1659/1659 [==============================] - 17s 10ms/step - loss: 0.4651 - val_loss: 0.4881\n",
      "Epoch 53/100\n",
      "1659/1659 [==============================] - 18s 11ms/step - loss: 0.4657 - val_loss: 0.4650\n",
      "Epoch 54/100\n",
      "1659/1659 [==============================] - 18s 11ms/step - loss: 0.4662 - val_loss: 0.4579\n",
      "Epoch 55/100\n",
      "1659/1659 [==============================] - 17s 10ms/step - loss: 0.4648 - val_loss: 0.4686\n",
      "Epoch 56/100\n",
      "1659/1659 [==============================] - 17s 10ms/step - loss: 0.4654 - val_loss: 0.4741\n",
      "Epoch 57/100\n",
      "1659/1659 [==============================] - 18s 11ms/step - loss: 0.4659 - val_loss: 0.4921\n",
      "Epoch 58/100\n",
      "1659/1659 [==============================] - 17s 10ms/step - loss: 0.4652 - val_loss: 0.4698\n",
      "Epoch 59/100\n",
      "1659/1659 [==============================] - 17s 10ms/step - loss: 0.4657 - val_loss: 0.4950\n",
      "Epoch 60/100\n",
      "1659/1659 [==============================] - 17s 10ms/step - loss: 0.4652 - val_loss: 0.4727\n",
      "Epoch 61/100\n",
      "1659/1659 [==============================] - 18s 11ms/step - loss: 0.4657 - val_loss: 0.4904\n",
      "Epoch 62/100\n",
      "1659/1659 [==============================] - 17s 10ms/step - loss: 0.4656 - val_loss: 0.4835\n",
      "Epoch 63/100\n",
      "1659/1659 [==============================] - 17s 10ms/step - loss: 0.4656 - val_loss: 0.4894\n",
      "Epoch 64/100\n",
      "1659/1659 [==============================] - 18s 11ms/step - loss: 0.4653 - val_loss: 0.4686\n",
      "Epoch 65/100\n",
      "1659/1659 [==============================] - 18s 11ms/step - loss: 0.4654 - val_loss: 0.4836\n",
      "Epoch 66/100\n",
      "1659/1659 [==============================] - 18s 11ms/step - loss: 0.4656 - val_loss: 0.4680\n",
      "Epoch 67/100\n",
      "1659/1659 [==============================] - 18s 11ms/step - loss: 0.4656 - val_loss: 0.4549\n",
      "Epoch 67: early stopping\n"
     ]
    },
    {
     "data": {
      "text/plain": [
       "<keras.src.callbacks.History at 0x22d40f86380>"
      ]
     },
     "execution_count": 47,
     "metadata": {},
     "output_type": "execute_result"
    }
   ],
   "source": [
    "# traing the model \n",
    "\n",
    "model.fit( x= X_train, y = y_train, epochs = 100, batch_size = 50, validation_data = (X_test, y_test), callbacks = [ES])"
   ]
  },
  {
   "cell_type": "code",
   "execution_count": 48,
   "metadata": {},
   "outputs": [],
   "source": [
    "# visualising the loss \n",
    "\n",
    "loss = pd.DataFrame(model.history.history)"
   ]
  },
  {
   "cell_type": "code",
   "execution_count": 49,
   "metadata": {},
   "outputs": [
    {
     "data": {
      "text/plain": [
       "<Axes: >"
      ]
     },
     "execution_count": 49,
     "metadata": {},
     "output_type": "execute_result"
    },
    {
     "data": {
      "image/png": "[encoded data removed]",
      "text/plain": [
       "<Figure size 640x480 with 1 Axes>"
      ]
     },
     "metadata": {},
     "output_type": "display_data"
    }
   ],
   "source": [
    "# visualising the loss \n",
    "\n",
    "loss.plot()"
   ]
  },
  {
   "cell_type": "code",
   "execution_count": 52,
   "metadata": {},
   "outputs": [
    {
     "name": "stdout",
     "output_type": "stream",
     "text": [
      "2394/2394 [==============================] - 13s 6ms/step\n",
      "              precision    recall  f1-score   support\n",
      "\n",
      "           0       0.92      0.85      0.89     67681\n",
      "           1       0.29      0.44      0.35      8924\n",
      "\n",
      "    accuracy                           0.81     76605\n",
      "   macro avg       0.60      0.65      0.62     76605\n",
      "weighted avg       0.85      0.81      0.82     76605\n",
      "\n"
     ]
    }
   ],
   "source": [
    "prediction = model.predict(X_test)\n",
    "y_pred = []\n",
    "for i in prediction:\n",
    "    if i > 0.5:\n",
    "        y_pred.append(1)\n",
    "    else:\n",
    "        y_pred.append(0)\n",
    "\n",
    "print(classification_report(y_test, y_pred))"
   ]
  },
  {
   "cell_type": "markdown",
   "metadata": {},
   "source": [
    "## Model 1\n",
    "\n",
    "only under sample"
   ]
  },
  {
   "cell_type": "code",
   "execution_count": 53,
   "metadata": {},
   "outputs": [],
   "source": [
    "Xtrain, Xtest, ytrain, ytest = train_test_split(X, y, test_size = 0.3, random_state = 42)"
   ]
  },
  {
   "cell_type": "code",
   "execution_count": 54,
   "metadata": {},
   "outputs": [],
   "source": [
    "# Under Sampling \n",
    "\n",
    "rus = RandomUnderSampler(sampling_strategy = 0.50, random_state = 42)\n",
    "\n",
    "# Fitting  and creating resmapled X  and y\n",
    "\n",
    "X_train_resampled, y_train_resampled = rus.fit_resample(Xtrain, ytrain)"
   ]
  },
  {
   "cell_type": "code",
   "execution_count": 60,
   "metadata": {},
   "outputs": [
    {
     "name": "stderr",
     "output_type": "stream",
     "text": [
      "c:\\ProgramData\\anaconda3\\lib\\site-packages\\sklearn\\base.py:420: UserWarning: X does not have valid feature names, but MinMaxScaler was fitted with feature names\n",
      "  warnings.warn(\n"
     ]
    }
   ],
   "source": [
    "Xtrain = ms.fit_transform(X_train_resampled)\n",
    "Xtest = ms.transform(Xtest)\n",
    "ytrain = y_train_resampled.copy()"
   ]
  },
  {
   "cell_type": "code",
   "execution_count": 68,
   "metadata": {},
   "outputs": [],
   "source": [
    "# Creating the model instance and the model\n",
    "\n",
    "model1 = Sequential()\n",
    "\n",
    "# building the model layers\n",
    "\n",
    "model1.add(Dense(24, activation = 'relu'))\n",
    "#model1.add(Dropout(0.2))\n",
    "\n",
    "\n",
    "#Binary Classficiation\n",
    "\n",
    "model1.add(Dense(1, activation = 'sigmoid'))\n",
    "\n",
    "# model compliation\n",
    "\n",
    "model1.compile(loss = 'binary_crossentropy', optimizer = 'adam')"
   ]
  },
  {
   "cell_type": "code",
   "execution_count": 73,
   "metadata": {},
   "outputs": [
    {
     "name": "stdout",
     "output_type": "stream",
     "text": [
      "Epoch 1/100\n",
      "1944/1944 [==============================] - 26s 13ms/step - loss: 0.5386 - val_loss: 1.3530\n",
      "Epoch 2/100\n",
      "1944/1944 [==============================] - 24s 12ms/step - loss: 0.5385 - val_loss: 1.1831\n",
      "Epoch 3/100\n",
      "1944/1944 [==============================] - 25s 13ms/step - loss: 0.5382 - val_loss: 1.2707\n",
      "Epoch 4/100\n",
      "1944/1944 [==============================] - 24s 12ms/step - loss: 0.5383 - val_loss: 1.2521\n",
      "Epoch 5/100\n",
      "1944/1944 [==============================] - 24s 12ms/step - loss: 0.5382 - val_loss: 1.1985\n",
      "Epoch 6/100\n",
      "1944/1944 [==============================] - 26s 13ms/step - loss: 0.5379 - val_loss: 1.2139\n",
      "Epoch 7/100\n",
      "1944/1944 [==============================] - 26s 13ms/step - loss: 0.5381 - val_loss: 1.2043\n",
      "Epoch 8/100\n",
      "1944/1944 [==============================] - 25s 13ms/step - loss: 0.5379 - val_loss: 1.1988\n",
      "Epoch 9/100\n",
      "1944/1944 [==============================] - 28s 14ms/step - loss: 0.5378 - val_loss: 1.2633\n",
      "Epoch 10/100\n",
      "1944/1944 [==============================] - 28s 14ms/step - loss: 0.5377 - val_loss: 1.1929\n",
      "Epoch 11/100\n",
      "1944/1944 [==============================] - 28s 14ms/step - loss: 0.5378 - val_loss: 1.1808\n",
      "Epoch 12/100\n",
      "1944/1944 [==============================] - 25s 13ms/step - loss: 0.5377 - val_loss: 1.2024\n",
      "Epoch 13/100\n",
      "1944/1944 [==============================] - 27s 14ms/step - loss: 0.5378 - val_loss: 1.1712\n",
      "Epoch 14/100\n",
      "1944/1944 [==============================] - 26s 13ms/step - loss: 0.5376 - val_loss: 1.1568\n",
      "Epoch 15/100\n",
      "1944/1944 [==============================] - 25s 13ms/step - loss: 0.5375 - val_loss: 1.1607\n",
      "Epoch 16/100\n",
      "1944/1944 [==============================] - 26s 14ms/step - loss: 0.5374 - val_loss: 1.1724\n",
      "Epoch 17/100\n",
      "1944/1944 [==============================] - 25s 13ms/step - loss: 0.5373 - val_loss: 1.1935\n",
      "Epoch 18/100\n",
      "1944/1944 [==============================] - 26s 14ms/step - loss: 0.5374 - val_loss: 1.2740\n",
      "Epoch 19/100\n",
      "1944/1944 [==============================] - 27s 14ms/step - loss: 0.5372 - val_loss: 1.1652\n",
      "Epoch 20/100\n",
      "1944/1944 [==============================] - 25s 13ms/step - loss: 0.5371 - val_loss: 1.2147\n",
      "Epoch 21/100\n",
      "1944/1944 [==============================] - 27s 14ms/step - loss: 0.5374 - val_loss: 1.1634\n",
      "Epoch 22/100\n",
      "1944/1944 [==============================] - 25s 13ms/step - loss: 0.5368 - val_loss: 1.1821\n",
      "Epoch 23/100\n",
      "1944/1944 [==============================] - 26s 13ms/step - loss: 0.5371 - val_loss: 1.1663\n",
      "Epoch 24/100\n",
      "1944/1944 [==============================] - 27s 14ms/step - loss: 0.5369 - val_loss: 1.1866\n",
      "Epoch 25/100\n",
      "1944/1944 [==============================] - 25s 13ms/step - loss: 0.5368 - val_loss: 1.1830\n",
      "Epoch 26/100\n",
      "1944/1944 [==============================] - 26s 14ms/step - loss: 0.5366 - val_loss: 1.1930\n",
      "Epoch 27/100\n",
      "1944/1944 [==============================] - 25s 13ms/step - loss: 0.5369 - val_loss: 1.2009\n",
      "Epoch 28/100\n",
      "1944/1944 [==============================] - 25s 13ms/step - loss: 0.5367 - val_loss: 1.2467\n",
      "Epoch 29/100\n",
      "1944/1944 [==============================] - 26s 14ms/step - loss: 0.5365 - val_loss: 1.1912\n",
      "Epoch 30/100\n",
      "1944/1944 [==============================] - 25s 13ms/step - loss: 0.5366 - val_loss: 1.1978\n",
      "Epoch 31/100\n",
      "1944/1944 [==============================] - 26s 13ms/step - loss: 0.5366 - val_loss: 1.1443\n",
      "Epoch 32/100\n",
      "1944/1944 [==============================] - 25s 13ms/step - loss: 0.5364 - val_loss: 1.1351\n",
      "Epoch 33/100\n",
      "1944/1944 [==============================] - 26s 13ms/step - loss: 0.5366 - val_loss: 1.1938\n",
      "Epoch 34/100\n",
      "1944/1944 [==============================] - 26s 14ms/step - loss: 0.5365 - val_loss: 1.1647\n",
      "Epoch 35/100\n",
      "1944/1944 [==============================] - 25s 13ms/step - loss: 0.5364 - val_loss: 1.1890\n",
      "Epoch 36/100\n",
      "1944/1944 [==============================] - 26s 14ms/step - loss: 0.5366 - val_loss: 1.1707\n",
      "Epoch 37/100\n",
      "1944/1944 [==============================] - 27s 14ms/step - loss: 0.5364 - val_loss: 1.0932\n",
      "Epoch 38/100\n",
      "1944/1944 [==============================] - 25s 13ms/step - loss: 0.5363 - val_loss: 1.1785\n",
      "Epoch 39/100\n",
      "1944/1944 [==============================] - 27s 14ms/step - loss: 0.5362 - val_loss: 1.1291\n",
      "Epoch 40/100\n",
      "1944/1944 [==============================] - 26s 13ms/step - loss: 0.5361 - val_loss: 1.1879\n",
      "Epoch 41/100\n",
      "1944/1944 [==============================] - 27s 14ms/step - loss: 0.5362 - val_loss: 1.1555\n",
      "Epoch 42/100\n",
      "1944/1944 [==============================] - 27s 14ms/step - loss: 0.5361 - val_loss: 1.1411\n",
      "Epoch 43/100\n",
      "1944/1944 [==============================] - 26s 13ms/step - loss: 0.5362 - val_loss: 1.0925\n",
      "Epoch 44/100\n",
      "1944/1944 [==============================] - 27s 14ms/step - loss: 0.5362 - val_loss: 1.1429\n",
      "Epoch 45/100\n",
      "1944/1944 [==============================] - 25s 13ms/step - loss: 0.5361 - val_loss: 1.1526\n",
      "Epoch 46/100\n",
      "1944/1944 [==============================] - 25s 13ms/step - loss: 0.5360 - val_loss: 1.1486\n",
      "Epoch 47/100\n",
      "1944/1944 [==============================] - 26s 14ms/step - loss: 0.5359 - val_loss: 1.1896\n",
      "Epoch 48/100\n",
      "1944/1944 [==============================] - 27s 14ms/step - loss: 0.5359 - val_loss: 1.1255\n",
      "Epoch 49/100\n",
      "1944/1944 [==============================] - 27s 14ms/step - loss: 0.5361 - val_loss: 1.2274\n",
      "Epoch 50/100\n",
      "1944/1944 [==============================] - 26s 13ms/step - loss: 0.5360 - val_loss: 1.1664\n",
      "Epoch 51/100\n",
      "1944/1944 [==============================] - 25s 13ms/step - loss: 0.5359 - val_loss: 1.1609\n",
      "Epoch 52/100\n",
      "1944/1944 [==============================] - 26s 14ms/step - loss: 0.5358 - val_loss: 1.1666\n",
      "Epoch 53/100\n",
      "1944/1944 [==============================] - 25s 13ms/step - loss: 0.5358 - val_loss: 1.1698\n",
      "Epoch 54/100\n",
      "1944/1944 [==============================] - 26s 13ms/step - loss: 0.5358 - val_loss: 1.1851\n",
      "Epoch 55/100\n",
      "1944/1944 [==============================] - 25s 13ms/step - loss: 0.5358 - val_loss: 1.1610\n",
      "Epoch 56/100\n",
      "1944/1944 [==============================] - 25s 13ms/step - loss: 0.5356 - val_loss: 1.0802\n",
      "Epoch 57/100\n",
      "1944/1944 [==============================] - 26s 13ms/step - loss: 0.5358 - val_loss: 1.0932\n",
      "Epoch 58/100\n",
      "1944/1944 [==============================] - 25s 13ms/step - loss: 0.5356 - val_loss: 1.1485\n",
      "Epoch 59/100\n",
      "1944/1944 [==============================] - 26s 14ms/step - loss: 0.5355 - val_loss: 1.1083\n",
      "Epoch 60/100\n",
      "1944/1944 [==============================] - 25s 13ms/step - loss: 0.5355 - val_loss: 1.1522\n",
      "Epoch 61/100\n",
      "1944/1944 [==============================] - 24s 13ms/step - loss: 0.5356 - val_loss: 1.1482\n",
      "Epoch 62/100\n",
      "1944/1944 [==============================] - 17s 9ms/step - loss: 0.5358 - val_loss: 1.1571\n",
      "Epoch 63/100\n",
      "1944/1944 [==============================] - 17s 9ms/step - loss: 0.5354 - val_loss: 1.1918\n",
      "Epoch 64/100\n",
      "1944/1944 [==============================] - 16s 8ms/step - loss: 0.5355 - val_loss: 1.1497\n",
      "Epoch 65/100\n",
      "1944/1944 [==============================] - 16s 8ms/step - loss: 0.5356 - val_loss: 1.1963\n",
      "Epoch 66/100\n",
      "1944/1944 [==============================] - 19s 10ms/step - loss: 0.5355 - val_loss: 1.2053\n",
      "Epoch 67/100\n",
      "1944/1944 [==============================] - 20s 10ms/step - loss: 0.5354 - val_loss: 1.1605\n",
      "Epoch 68/100\n",
      "1944/1944 [==============================] - 22s 12ms/step - loss: 0.5356 - val_loss: 1.1429\n",
      "Epoch 69/100\n",
      "1944/1944 [==============================] - 24s 12ms/step - loss: 0.5355 - val_loss: 1.1772\n",
      "Epoch 70/100\n",
      "1944/1944 [==============================] - 24s 12ms/step - loss: 0.5353 - val_loss: 1.1985\n",
      "Epoch 71/100\n",
      "1944/1944 [==============================] - 22s 12ms/step - loss: 0.5355 - val_loss: 1.1889\n",
      "Epoch 72/100\n",
      "1944/1944 [==============================] - 24s 12ms/step - loss: 0.5353 - val_loss: 1.1672\n",
      "Epoch 73/100\n",
      "1944/1944 [==============================] - 23s 12ms/step - loss: 0.5353 - val_loss: 1.1346\n",
      "Epoch 74/100\n",
      "1944/1944 [==============================] - 23s 12ms/step - loss: 0.5352 - val_loss: 1.1774\n",
      "Epoch 75/100\n",
      "1944/1944 [==============================] - 24s 12ms/step - loss: 0.5353 - val_loss: 1.2233\n",
      "Epoch 76/100\n",
      "1944/1944 [==============================] - 23s 12ms/step - loss: 0.5351 - val_loss: 1.2589\n",
      "Epoch 77/100\n",
      "1944/1944 [==============================] - 23s 12ms/step - loss: 0.5352 - val_loss: 1.1799\n",
      "Epoch 78/100\n",
      "1944/1944 [==============================] - 24s 13ms/step - loss: 0.5354 - val_loss: 1.1315\n",
      "Epoch 79/100\n",
      "1944/1944 [==============================] - 23s 12ms/step - loss: 0.5351 - val_loss: 1.1909\n",
      "Epoch 80/100\n",
      "1944/1944 [==============================] - 23s 12ms/step - loss: 0.5350 - val_loss: 1.2530\n",
      "Epoch 81/100\n",
      "1944/1944 [==============================] - 23s 12ms/step - loss: 0.5352 - val_loss: 1.1840\n",
      "Epoch 81: early stopping\n"
     ]
    },
    {
     "data": {
      "text/plain": [
       "<keras.src.callbacks.History at 0x22d4d2e3ac0>"
      ]
     },
     "execution_count": 73,
     "metadata": {},
     "output_type": "execute_result"
    }
   ],
   "source": [
    "# traing the model \n",
    "\n",
    "model1.fit( x= Xtrain, y = ytrain, epochs = 100, validation_data = (Xtest, ytest), callbacks = [ES])"
   ]
  },
  {
   "cell_type": "code",
   "execution_count": 74,
   "metadata": {},
   "outputs": [],
   "source": [
    "# visualising the loss \n",
    "\n",
    "loss1 = pd.DataFrame(model1.history.history)"
   ]
  },
  {
   "cell_type": "code",
   "execution_count": 75,
   "metadata": {},
   "outputs": [
    {
     "data": {
      "text/plain": [
       "<Axes: >"
      ]
     },
     "execution_count": 75,
     "metadata": {},
     "output_type": "execute_result"
    },
    {
     "data": {
      "image/png": "[encoded data removed]",
      "text/plain": [
       "<Figure size 640x480 with 1 Axes>"
      ]
     },
     "metadata": {},
     "output_type": "display_data"
    }
   ],
   "source": [
    "# visualising the loss \n",
    "\n",
    "loss1.plot()"
   ]
  },
  {
   "cell_type": "code",
   "execution_count": 76,
   "metadata": {},
   "outputs": [
    {
     "name": "stdout",
     "output_type": "stream",
     "text": [
      "2394/2394 [==============================] - 15s 6ms/step\n",
      "              precision    recall  f1-score   support\n",
      "\n",
      "           0       0.92      0.05      0.09     67681\n",
      "           1       0.12      0.97      0.21      8924\n",
      "\n",
      "    accuracy                           0.15     76605\n",
      "   macro avg       0.52      0.51      0.15     76605\n",
      "weighted avg       0.83      0.15      0.10     76605\n",
      "\n"
     ]
    }
   ],
   "source": [
    "prediction1 = model1.predict(Xtest)\n",
    "y_pred1 = []\n",
    "for i in prediction1:\n",
    "    if i > 0.5:\n",
    "        y_pred1.append(1)\n",
    "    else:\n",
    "        y_pred1.append(0)\n",
    "\n",
    "print(classification_report(ytest, y_pred1))"
   ]
  },
  {
   "cell_type": "markdown",
   "metadata": {},
   "source": [
    "## Model2 "
   ]
  },
  {
   "cell_type": "code",
   "execution_count": 89,
   "metadata": {},
   "outputs": [],
   "source": [
    "X_train, X_test, y_train, y_test = train_test_split(X, y, test_size = 0.2, random_state = 42)"
   ]
  },
  {
   "cell_type": "code",
   "execution_count": 90,
   "metadata": {},
   "outputs": [],
   "source": [
    "X_train = ms.fit_transform(X_train)\n",
    "X_test = ms.transform(X_test)"
   ]
  },
  {
   "cell_type": "code",
   "execution_count": 91,
   "metadata": {},
   "outputs": [],
   "source": [
    "# Creating the model instance and the model\n",
    "\n",
    "model2 = Sequential()\n",
    "\n",
    "# building the model layers\n",
    "\n",
    "model2.add(Dense(24, activation = 'relu'))\n",
    "model2.add(Dropout(0.2))\n",
    "\n",
    "# Binary Classficiation\n",
    "\n",
    "model2.add(Dense(1, activation = 'sigmoid'))\n",
    "\n",
    "# model compliation\n",
    "\n",
    "model2.compile(loss = 'binary_crossentropy', optimizer = 'adam')"
   ]
  },
  {
   "cell_type": "code",
   "execution_count": 92,
   "metadata": {},
   "outputs": [
    {
     "name": "stdout",
     "output_type": "stream",
     "text": [
      "Epoch 1/100\n",
      "6384/6384 [==============================] - 61s 9ms/step - loss: 0.3288 - val_loss: 0.3142\n",
      "Epoch 2/100\n",
      "6384/6384 [==============================] - 57s 9ms/step - loss: 0.3199 - val_loss: 0.3123\n",
      "Epoch 3/100\n",
      "6384/6384 [==============================] - 55s 9ms/step - loss: 0.3179 - val_loss: 0.3112\n",
      "Epoch 4/100\n",
      "6384/6384 [==============================] - 54s 8ms/step - loss: 0.3164 - val_loss: 0.3105\n",
      "Epoch 5/100\n",
      "6384/6384 [==============================] - 54s 8ms/step - loss: 0.3159 - val_loss: 0.3100\n",
      "Epoch 6/100\n",
      "6384/6384 [==============================] - 51s 8ms/step - loss: 0.3156 - val_loss: 0.3106\n",
      "Epoch 7/100\n",
      "6384/6384 [==============================] - 54s 9ms/step - loss: 0.3158 - val_loss: 0.3108\n",
      "Epoch 8/100\n",
      "6384/6384 [==============================] - 67s 10ms/step - loss: 0.3154 - val_loss: 0.3098\n",
      "Epoch 9/100\n",
      "6384/6384 [==============================] - 49s 8ms/step - loss: 0.3153 - val_loss: 0.3109\n",
      "Epoch 10/100\n",
      "6384/6384 [==============================] - 49s 8ms/step - loss: 0.3152 - val_loss: 0.3096\n",
      "Epoch 11/100\n",
      "6384/6384 [==============================] - 52s 8ms/step - loss: 0.3151 - val_loss: 0.3094\n",
      "Epoch 12/100\n",
      "6384/6384 [==============================] - 49s 8ms/step - loss: 0.3149 - val_loss: 0.3101\n",
      "Epoch 13/100\n",
      "6384/6384 [==============================] - 49s 8ms/step - loss: 0.3154 - val_loss: 0.3094\n",
      "Epoch 14/100\n",
      "6384/6384 [==============================] - 49s 8ms/step - loss: 0.3152 - val_loss: 0.3097\n",
      "Epoch 15/100\n",
      "6384/6384 [==============================] - 48s 8ms/step - loss: 0.3149 - val_loss: 0.3101\n",
      "Epoch 16/100\n",
      "6384/6384 [==============================] - 48s 7ms/step - loss: 0.3153 - val_loss: 0.3098\n",
      "Epoch 17/100\n",
      "6384/6384 [==============================] - 48s 8ms/step - loss: 0.3151 - val_loss: 0.3095\n",
      "Epoch 18/100\n",
      "6384/6384 [==============================] - 50s 8ms/step - loss: 0.3148 - val_loss: 0.3095\n",
      "Epoch 19/100\n",
      "6384/6384 [==============================] - 49s 8ms/step - loss: 0.3147 - val_loss: 0.3105\n",
      "Epoch 20/100\n",
      "6384/6384 [==============================] - 49s 8ms/step - loss: 0.3148 - val_loss: 0.3100\n",
      "Epoch 21/100\n",
      "6384/6384 [==============================] - 50s 8ms/step - loss: 0.3150 - val_loss: 0.3092\n",
      "Epoch 22/100\n",
      "6384/6384 [==============================] - 50s 8ms/step - loss: 0.3151 - val_loss: 0.3099\n",
      "Epoch 23/100\n",
      "6384/6384 [==============================] - 49s 8ms/step - loss: 0.3149 - val_loss: 0.3094\n",
      "Epoch 24/100\n",
      "6384/6384 [==============================] - 50s 8ms/step - loss: 0.3149 - val_loss: 0.3099\n",
      "Epoch 25/100\n",
      "6384/6384 [==============================] - 50s 8ms/step - loss: 0.3145 - val_loss: 0.3105\n",
      "Epoch 26/100\n",
      "6384/6384 [==============================] - 50s 8ms/step - loss: 0.3149 - val_loss: 0.3098\n",
      "Epoch 27/100\n",
      "6384/6384 [==============================] - 48s 8ms/step - loss: 0.3148 - val_loss: 0.3094\n",
      "Epoch 28/100\n",
      "6384/6384 [==============================] - 48s 8ms/step - loss: 0.3152 - val_loss: 0.3095\n",
      "Epoch 29/100\n",
      "6384/6384 [==============================] - 53s 8ms/step - loss: 0.3149 - val_loss: 0.3091\n",
      "Epoch 30/100\n",
      "6384/6384 [==============================] - 56s 9ms/step - loss: 0.3148 - val_loss: 0.3096\n",
      "Epoch 31/100\n",
      "6384/6384 [==============================] - 63s 10ms/step - loss: 0.3148 - val_loss: 0.3107\n",
      "Epoch 32/100\n",
      "6384/6384 [==============================] - 63s 10ms/step - loss: 0.3147 - val_loss: 0.3092\n",
      "Epoch 33/100\n",
      "6384/6384 [==============================] - 59s 9ms/step - loss: 0.3148 - val_loss: 0.3100\n",
      "Epoch 34/100\n",
      "6384/6384 [==============================] - 49s 8ms/step - loss: 0.3150 - val_loss: 0.3093\n",
      "Epoch 35/100\n",
      "6384/6384 [==============================] - 48s 8ms/step - loss: 0.3147 - val_loss: 0.3093\n",
      "Epoch 36/100\n",
      "6384/6384 [==============================] - 50s 8ms/step - loss: 0.3148 - val_loss: 0.3100\n",
      "Epoch 37/100\n",
      "6384/6384 [==============================] - 52s 8ms/step - loss: 0.3148 - val_loss: 0.3095\n",
      "Epoch 38/100\n",
      "6384/6384 [==============================] - 48s 8ms/step - loss: 0.3146 - val_loss: 0.3097\n",
      "Epoch 39/100\n",
      "6384/6384 [==============================] - 47s 7ms/step - loss: 0.3147 - val_loss: 0.3107\n",
      "Epoch 40/100\n",
      "6384/6384 [==============================] - 48s 8ms/step - loss: 0.3149 - val_loss: 0.3097\n",
      "Epoch 41/100\n",
      "6384/6384 [==============================] - 48s 8ms/step - loss: 0.3148 - val_loss: 0.3097\n",
      "Epoch 42/100\n",
      "6384/6384 [==============================] - 47s 7ms/step - loss: 0.3150 - val_loss: 0.3093\n",
      "Epoch 43/100\n",
      "6384/6384 [==============================] - 48s 7ms/step - loss: 0.3148 - val_loss: 0.3092\n",
      "Epoch 44/100\n",
      "6384/6384 [==============================] - 47s 7ms/step - loss: 0.3148 - val_loss: 0.3097\n",
      "Epoch 45/100\n",
      "6384/6384 [==============================] - 49s 8ms/step - loss: 0.3147 - val_loss: 0.3099\n",
      "Epoch 46/100\n",
      "6384/6384 [==============================] - 48s 8ms/step - loss: 0.3148 - val_loss: 0.3094\n",
      "Epoch 47/100\n",
      "6384/6384 [==============================] - 49s 8ms/step - loss: 0.3149 - val_loss: 0.3097\n",
      "Epoch 48/100\n",
      "6384/6384 [==============================] - 48s 8ms/step - loss: 0.3147 - val_loss: 0.3098\n",
      "Epoch 49/100\n",
      "6384/6384 [==============================] - 48s 8ms/step - loss: 0.3147 - val_loss: 0.3090\n",
      "Epoch 50/100\n",
      "6384/6384 [==============================] - 48s 7ms/step - loss: 0.3149 - val_loss: 0.3093\n",
      "Epoch 51/100\n",
      "6384/6384 [==============================] - 48s 8ms/step - loss: 0.3147 - val_loss: 0.3095\n",
      "Epoch 52/100\n",
      "6384/6384 [==============================] - 48s 7ms/step - loss: 0.3148 - val_loss: 0.3098\n",
      "Epoch 53/100\n",
      "6384/6384 [==============================] - 46s 7ms/step - loss: 0.3148 - val_loss: 0.3093\n",
      "Epoch 54/100\n",
      "6384/6384 [==============================] - 46s 7ms/step - loss: 0.3147 - val_loss: 0.3101\n",
      "Epoch 55/100\n",
      "6384/6384 [==============================] - 46s 7ms/step - loss: 0.3147 - val_loss: 0.3097\n",
      "Epoch 56/100\n",
      "6384/6384 [==============================] - 46s 7ms/step - loss: 0.3151 - val_loss: 0.3092\n",
      "Epoch 57/100\n",
      "6384/6384 [==============================] - 46s 7ms/step - loss: 0.3147 - val_loss: 0.3096\n",
      "Epoch 58/100\n",
      "6384/6384 [==============================] - 46s 7ms/step - loss: 0.3146 - val_loss: 0.3095\n",
      "Epoch 59/100\n",
      "6384/6384 [==============================] - 47s 7ms/step - loss: 0.3144 - val_loss: 0.3093\n",
      "Epoch 60/100\n",
      "6384/6384 [==============================] - 46s 7ms/step - loss: 0.3148 - val_loss: 0.3093\n",
      "Epoch 61/100\n",
      "6384/6384 [==============================] - 48s 7ms/step - loss: 0.3146 - val_loss: 0.3096\n",
      "Epoch 62/100\n",
      "6384/6384 [==============================] - 49s 8ms/step - loss: 0.3148 - val_loss: 0.3093\n",
      "Epoch 63/100\n",
      "6384/6384 [==============================] - 50s 8ms/step - loss: 0.3144 - val_loss: 0.3094\n",
      "Epoch 64/100\n",
      "6384/6384 [==============================] - 48s 8ms/step - loss: 0.3147 - val_loss: 0.3092\n",
      "Epoch 65/100\n",
      "6384/6384 [==============================] - 49s 8ms/step - loss: 0.3147 - val_loss: 0.3104\n",
      "Epoch 66/100\n",
      "6384/6384 [==============================] - 49s 8ms/step - loss: 0.3145 - val_loss: 0.3096\n",
      "Epoch 67/100\n",
      "6384/6384 [==============================] - 48s 7ms/step - loss: 0.3145 - val_loss: 0.3105\n",
      "Epoch 68/100\n",
      "6384/6384 [==============================] - 50s 8ms/step - loss: 0.3148 - val_loss: 0.3095\n",
      "Epoch 69/100\n",
      "6384/6384 [==============================] - 49s 8ms/step - loss: 0.3146 - val_loss: 0.3096\n",
      "Epoch 70/100\n",
      "6384/6384 [==============================] - 48s 8ms/step - loss: 0.3146 - val_loss: 0.3098\n",
      "Epoch 71/100\n",
      "6384/6384 [==============================] - 47s 7ms/step - loss: 0.3146 - val_loss: 0.3099\n",
      "Epoch 72/100\n",
      "6384/6384 [==============================] - 47s 7ms/step - loss: 0.3147 - val_loss: 0.3100\n",
      "Epoch 73/100\n",
      "6384/6384 [==============================] - 47s 7ms/step - loss: 0.3148 - val_loss: 0.3098\n",
      "Epoch 74/100\n",
      "6384/6384 [==============================] - 47s 7ms/step - loss: 0.3150 - val_loss: 0.3102\n",
      "Epoch 74: early stopping\n"
     ]
    },
    {
     "data": {
      "text/plain": [
       "<keras.src.callbacks.History at 0x22d3ddca860>"
      ]
     },
     "execution_count": 92,
     "metadata": {},
     "output_type": "execute_result"
    }
   ],
   "source": [
    "model2.fit( x= X_train, y = y_train, epochs = 100, validation_data = (X_test, y_test), callbacks = [ES])"
   ]
  },
  {
   "cell_type": "code",
   "execution_count": 93,
   "metadata": {},
   "outputs": [],
   "source": [
    "# visualising the loss \n",
    "\n",
    "loss2 = pd.DataFrame(model2.history.history)"
   ]
  },
  {
   "cell_type": "code",
   "execution_count": 94,
   "metadata": {},
   "outputs": [
    {
     "data": {
      "text/plain": [
       "<Axes: >"
      ]
     },
     "execution_count": 94,
     "metadata": {},
     "output_type": "execute_result"
    },
    {
     "data": {
      "image/png": "[encoded data removed]",
      "text/plain": [
       "<Figure size 640x480 with 1 Axes>"
      ]
     },
     "metadata": {},
     "output_type": "display_data"
    }
   ],
   "source": [
    "# visualising the loss \n",
    "\n",
    "loss2.plot()"
   ]
  },
  {
   "cell_type": "code",
   "execution_count": 95,
   "metadata": {},
   "outputs": [
    {
     "name": "stdout",
     "output_type": "stream",
     "text": [
      "1596/1596 [==============================] - 9s 6ms/step\n",
      "              precision    recall  f1-score   support\n",
      "\n",
      "           0       0.89      0.99      0.94     45170\n",
      "           1       0.61      0.07      0.13      5900\n",
      "\n",
      "    accuracy                           0.89     51070\n",
      "   macro avg       0.75      0.53      0.54     51070\n",
      "weighted avg       0.86      0.89      0.85     51070\n",
      "\n"
     ]
    }
   ],
   "source": [
    "prediction2 = model2.predict(X_test)\n",
    "y_pred2 = []\n",
    "for i in prediction2:\n",
    "    if i > 0.5:\n",
    "        y_pred2.append(1)\n",
    "    else:\n",
    "        y_pred2.append(0)\n",
    "\n",
    "print(classification_report(y_test, y_pred2))"
   ]
  },
  {
   "cell_type": "code",
   "execution_count": 88,
   "metadata": {},
   "outputs": [
    {
     "data": {
      "text/plain": [
       "(82916, 24)"
      ]
     },
     "execution_count": 88,
     "metadata": {},
     "output_type": "execute_result"
    }
   ],
   "source": [
    "X_train.shape"
   ]
  },
  {
   "cell_type": "markdown",
   "metadata": {},
   "source": [
    "## Model3"
   ]
  },
  {
   "cell_type": "code",
   "execution_count": 97,
   "metadata": {},
   "outputs": [],
   "source": [
    "# Creating the model instance and the model\n",
    "\n",
    "model3 = Sequential()\n",
    "\n",
    "# building the model layers\n",
    "\n",
    "model3.add(Dense(24, activation = 'relu'))\n",
    "model3.add(Dropout(0.2))\n",
    "\n",
    "model3.add(Dense(12, activation = 'relu'))\n",
    "model3.add(Dropout(0.2))\n",
    "\n",
    "# Binary Classficiation\n",
    "\n",
    "model3.add(Dense(1, activation = 'sigmoid'))\n",
    "\n",
    "# model compliation\n",
    "\n",
    "model3.compile(loss = 'binary_crossentropy', optimizer = 'adam')"
   ]
  },
  {
   "cell_type": "code",
   "execution_count": 98,
   "metadata": {},
   "outputs": [
    {
     "name": "stdout",
     "output_type": "stream",
     "text": [
      "Epoch 1/100\n",
      "1022/1022 [==============================] - 15s 11ms/step - loss: 0.3662 - val_loss: 0.3165\n",
      "Epoch 2/100\n",
      "1022/1022 [==============================] - 11s 11ms/step - loss: 0.3318 - val_loss: 0.3145\n",
      "Epoch 3/100\n",
      "1022/1022 [==============================] - 11s 11ms/step - loss: 0.3265 - val_loss: 0.3136\n",
      "Epoch 4/100\n",
      "1022/1022 [==============================] - 11s 10ms/step - loss: 0.3236 - val_loss: 0.3124\n",
      "Epoch 5/100\n",
      "1022/1022 [==============================] - 10s 10ms/step - loss: 0.3215 - val_loss: 0.3119\n",
      "Epoch 6/100\n",
      "1022/1022 [==============================] - 10s 9ms/step - loss: 0.3203 - val_loss: 0.3112\n",
      "Epoch 7/100\n",
      "1022/1022 [==============================] - 10s 10ms/step - loss: 0.3194 - val_loss: 0.3119\n",
      "Epoch 8/100\n",
      "1022/1022 [==============================] - 10s 9ms/step - loss: 0.3187 - val_loss: 0.3106\n",
      "Epoch 9/100\n",
      "1022/1022 [==============================] - 10s 10ms/step - loss: 0.3185 - val_loss: 0.3105\n",
      "Epoch 10/100\n",
      "1022/1022 [==============================] - 10s 10ms/step - loss: 0.3178 - val_loss: 0.3115\n",
      "Epoch 11/100\n",
      "1022/1022 [==============================] - 11s 11ms/step - loss: 0.3174 - val_loss: 0.3104\n",
      "Epoch 12/100\n",
      "1022/1022 [==============================] - 10s 9ms/step - loss: 0.3172 - val_loss: 0.3107\n",
      "Epoch 13/100\n",
      "1022/1022 [==============================] - 10s 10ms/step - loss: 0.3170 - val_loss: 0.3106\n",
      "Epoch 14/100\n",
      "1022/1022 [==============================] - 10s 10ms/step - loss: 0.3168 - val_loss: 0.3101\n",
      "Epoch 15/100\n",
      "1022/1022 [==============================] - 10s 9ms/step - loss: 0.3165 - val_loss: 0.3099\n",
      "Epoch 16/100\n",
      "1022/1022 [==============================] - 9s 9ms/step - loss: 0.3165 - val_loss: 0.3107\n",
      "Epoch 17/100\n",
      "1022/1022 [==============================] - 9s 9ms/step - loss: 0.3164 - val_loss: 0.3109\n",
      "Epoch 18/100\n",
      "1022/1022 [==============================] - 10s 10ms/step - loss: 0.3165 - val_loss: 0.3098\n",
      "Epoch 19/100\n",
      "1022/1022 [==============================] - 9s 9ms/step - loss: 0.3164 - val_loss: 0.3098\n",
      "Epoch 20/100\n",
      "1022/1022 [==============================] - 9s 9ms/step - loss: 0.3164 - val_loss: 0.3101\n",
      "Epoch 21/100\n",
      "1022/1022 [==============================] - 9s 9ms/step - loss: 0.3161 - val_loss: 0.3101\n",
      "Epoch 22/100\n",
      "1022/1022 [==============================] - 9s 9ms/step - loss: 0.3158 - val_loss: 0.3104\n",
      "Epoch 23/100\n",
      "1022/1022 [==============================] - 9s 9ms/step - loss: 0.3160 - val_loss: 0.3107\n",
      "Epoch 24/100\n",
      "1022/1022 [==============================] - 9s 9ms/step - loss: 0.3160 - val_loss: 0.3105\n",
      "Epoch 25/100\n",
      "1022/1022 [==============================] - 11s 10ms/step - loss: 0.3157 - val_loss: 0.3099\n",
      "Epoch 26/100\n",
      "1022/1022 [==============================] - 9s 9ms/step - loss: 0.3157 - val_loss: 0.3100\n",
      "Epoch 27/100\n",
      "1022/1022 [==============================] - 9s 9ms/step - loss: 0.3160 - val_loss: 0.3103\n",
      "Epoch 28/100\n",
      "1022/1022 [==============================] - 9s 9ms/step - loss: 0.3159 - val_loss: 0.3100\n",
      "Epoch 29/100\n",
      "1022/1022 [==============================] - 10s 9ms/step - loss: 0.3159 - val_loss: 0.3104\n",
      "Epoch 30/100\n",
      "1022/1022 [==============================] - 9s 9ms/step - loss: 0.3163 - val_loss: 0.3099\n",
      "Epoch 31/100\n",
      "1022/1022 [==============================] - 9s 9ms/step - loss: 0.3155 - val_loss: 0.3103\n",
      "Epoch 32/100\n",
      "1022/1022 [==============================] - 10s 10ms/step - loss: 0.3159 - val_loss: 0.3103\n",
      "Epoch 33/100\n",
      "1022/1022 [==============================] - 9s 9ms/step - loss: 0.3158 - val_loss: 0.3101\n",
      "Epoch 34/100\n",
      "1022/1022 [==============================] - 9s 9ms/step - loss: 0.3156 - val_loss: 0.3099\n",
      "Epoch 35/100\n",
      "1022/1022 [==============================] - 9s 9ms/step - loss: 0.3160 - val_loss: 0.3102\n",
      "Epoch 36/100\n",
      "1022/1022 [==============================] - 9s 9ms/step - loss: 0.3158 - val_loss: 0.3102\n",
      "Epoch 37/100\n",
      "1022/1022 [==============================] - 9s 9ms/step - loss: 0.3154 - val_loss: 0.3106\n",
      "Epoch 38/100\n",
      "1022/1022 [==============================] - 9s 9ms/step - loss: 0.3155 - val_loss: 0.3100\n",
      "Epoch 39/100\n",
      "1022/1022 [==============================] - 10s 10ms/step - loss: 0.3155 - val_loss: 0.3100\n",
      "Epoch 40/100\n",
      "1022/1022 [==============================] - 10s 9ms/step - loss: 0.3154 - val_loss: 0.3100\n",
      "Epoch 41/100\n",
      "1022/1022 [==============================] - 9s 9ms/step - loss: 0.3157 - val_loss: 0.3098\n",
      "Epoch 42/100\n",
      "1022/1022 [==============================] - 9s 9ms/step - loss: 0.3155 - val_loss: 0.3100\n",
      "Epoch 43/100\n",
      "1022/1022 [==============================] - 9s 9ms/step - loss: 0.3154 - val_loss: 0.3100\n",
      "Epoch 43: early stopping\n"
     ]
    },
    {
     "data": {
      "text/plain": [
       "<keras.src.callbacks.History at 0x22d3cf769e0>"
      ]
     },
     "execution_count": 98,
     "metadata": {},
     "output_type": "execute_result"
    }
   ],
   "source": [
    "model3.fit( x= X_train, y = y_train, epochs = 100, batch_size = 200,  validation_data = (X_test, y_test), callbacks = [ES])"
   ]
  },
  {
   "cell_type": "code",
   "execution_count": 101,
   "metadata": {},
   "outputs": [],
   "source": [
    "# visualising the loss \n",
    "\n",
    "loss3 = pd.DataFrame(model3.history.history)"
   ]
  },
  {
   "cell_type": "code",
   "execution_count": 102,
   "metadata": {},
   "outputs": [
    {
     "data": {
      "text/plain": [
       "<Axes: >"
      ]
     },
     "execution_count": 102,
     "metadata": {},
     "output_type": "execute_result"
    },
    {
     "data": {
      "image/png": "[encoded data removed]",
      "text/plain": [
       "<Figure size 640x480 with 1 Axes>"
      ]
     },
     "metadata": {},
     "output_type": "display_data"
    }
   ],
   "source": [
    "# visualising the loss \n",
    "\n",
    "loss3.plot()"
   ]
  },
  {
   "cell_type": "code",
   "execution_count": 103,
   "metadata": {},
   "outputs": [
    {
     "name": "stdout",
     "output_type": "stream",
     "text": [
      "1596/1596 [==============================] - 10s 6ms/step\n",
      "              precision    recall  f1-score   support\n",
      "\n",
      "           0       0.89      0.99      0.94     45170\n",
      "           1       0.61      0.07      0.13      5900\n",
      "\n",
      "    accuracy                           0.89     51070\n",
      "   macro avg       0.75      0.53      0.54     51070\n",
      "weighted avg       0.86      0.89      0.85     51070\n",
      "\n"
     ]
    }
   ],
   "source": [
    "prediction3 = model2.predict(X_test)\n",
    "y_pred3 = []\n",
    "for i in prediction2:\n",
    "    if i > 0.5:\n",
    "        y_pred3.append(1)\n",
    "    else:\n",
    "        y_pred3.append(0)\n",
    "\n",
    "print(classification_report(y_test, y_pred2))"
   ]
  },
  {
   "cell_type": "code",
   "execution_count": 96,
   "metadata": {},
   "outputs": [
    {
     "data": {
      "text/plain": [
       "['loanmodel2.joblib']"
      ]
     },
     "execution_count": 96,
     "metadata": {},
     "output_type": "execute_result"
    }
   ],
   "source": [
    "from joblib import dump\n",
    "\n",
    "dump(model2, 'loanmodel2.joblib')"
   ]
  },
  {
   "cell_type": "code",
   "execution_count": 112,
   "metadata": {},
   "outputs": [
    {
     "data": {
      "text/plain": [
       "Index(['LoanID', 'Age', 'Income', 'LoanAmount', 'CreditScore',\n",
       "       'MonthsEmployed', 'NumCreditLines', 'InterestRate', 'LoanTerm',\n",
       "       'DTIRatio', 'Education', 'EmploymentType', 'MaritalStatus',\n",
       "       'HasMortgage', 'HasDependents', 'LoanPurpose', 'HasCoSigner',\n",
       "       'Default'],\n",
       "      dtype='object')"
      ]
     },
     "execution_count": 112,
     "metadata": {},
     "output_type": "execute_result"
    }
   ],
   "source": [
    "loan.columns"
   ]
  }
 ],
 "metadata": {
  "kernelspec": {
   "display_name": "Python 3 (ipykernel)",
   "language": "python",
   "name": "python3"
  },
  "language_info": {
   "codemirror_mode": {
    "name": "ipython",
    "version": 3
   },
   "file_extension": ".py",
   "mimetype": "text/x-python",
   "name": "python",
   "nbconvert_exporter": "python",
   "pygments_lexer": "ipython3",
   "version": "3.10.9"
  }
 },
 "nbformat": 4,
 "nbformat_minor": 4
}
